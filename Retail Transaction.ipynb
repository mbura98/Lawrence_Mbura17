{
 "cells": [
  {
   "cell_type": "code",
   "execution_count": null,
   "id": "c4c9f4f2",
   "metadata": {},
   "outputs": [],
   "source": [
    "import pandas as pd\n",
    "import numpy as np\n",
    "import matplotlib.pyplot as plt\n",
    "%matplotlib inline\n",
    "import seaborn as sns\n",
    "\n",
    "import warnings\n",
    "warnings.filterwarnings('ignore')"
   ]
  },
  {
   "cell_type": "code",
   "execution_count": null,
   "id": "6ac97301",
   "metadata": {},
   "outputs": [],
   "source": [
    "df=pd.read_csv(r\"C:\\Users\\ADMIN\\Desktop\\DATASETS\\Retail_Transaction_Dataset.csv\")"
   ]
  },
  {
   "cell_type": "code",
   "execution_count": null,
   "id": "b960f3e0",
   "metadata": {},
   "outputs": [],
   "source": [
    "df.head()"
   ]
  },
  {
   "cell_type": "code",
   "execution_count": null,
   "id": "3af2e57b",
   "metadata": {},
   "outputs": [],
   "source": [
    "df['TransactionDate']=pd.to_datetime(df['TransactionDate'])"
   ]
  },
  {
   "cell_type": "code",
   "execution_count": null,
   "id": "a76f9761",
   "metadata": {},
   "outputs": [],
   "source": [
    "df.shape"
   ]
  },
  {
   "cell_type": "code",
   "execution_count": null,
   "id": "62e506a6",
   "metadata": {},
   "outputs": [],
   "source": [
    "df.info()"
   ]
  },
  {
   "cell_type": "code",
   "execution_count": null,
   "id": "37566e21",
   "metadata": {},
   "outputs": [],
   "source": [
    "df.isnull().sum()"
   ]
  },
  {
   "cell_type": "code",
   "execution_count": null,
   "id": "1df51b95",
   "metadata": {
    "scrolled": true
   },
   "outputs": [],
   "source": [
    "df1=df.sort_values(['TotalAmount'],ascending=False)\n",
    "df1.head()"
   ]
  },
  {
   "cell_type": "code",
   "execution_count": null,
   "id": "7d95670b",
   "metadata": {},
   "outputs": [],
   "source": [
    "plt.figure(figsize=(5,4))\n",
    "df1['TotalAmount'].sort_values(ascending=False)\n",
    "ax=sns.barplot(data=df1.head(),x='ProductID',y='TotalAmount')\n",
    "for bars in ax.containers:\n",
    "    ax.bar_label(bars)\n",
    "plt.title('Top 5 product sold')\n",
    "plt.show()"
   ]
  },
  {
   "cell_type": "code",
   "execution_count": null,
   "id": "6b940d78",
   "metadata": {},
   "outputs": [],
   "source": [
    "df.groupby('ProductID')[['PaymentMethod','ProductCategory']].value_counts()"
   ]
  },
  {
   "cell_type": "code",
   "execution_count": null,
   "id": "242c0e1d",
   "metadata": {},
   "outputs": [],
   "source": [
    "df.groupby('ProductID')['PaymentMethod'].value_counts()"
   ]
  },
  {
   "cell_type": "code",
   "execution_count": null,
   "id": "fcd74e47",
   "metadata": {},
   "outputs": [],
   "source": [
    "df['PaymentMethod'].value_counts()"
   ]
  },
  {
   "cell_type": "code",
   "execution_count": null,
   "id": "942a64ee",
   "metadata": {},
   "outputs": [],
   "source": [
    "dp=df[df['ProductID']=='A']"
   ]
  },
  {
   "cell_type": "code",
   "execution_count": null,
   "id": "b8de42ef",
   "metadata": {},
   "outputs": [],
   "source": [
    "df[df['PaymentMethod']=='Cash'].head()"
   ]
  },
  {
   "cell_type": "code",
   "execution_count": null,
   "id": "a28b0760",
   "metadata": {},
   "outputs": [],
   "source": [
    "df[(df['ProductID']=='A') & (df['ProductCategory']=='Books')].head()"
   ]
  },
  {
   "cell_type": "code",
   "execution_count": null,
   "id": "2cb536ef",
   "metadata": {},
   "outputs": [],
   "source": [
    "df[(df['ProductID']=='D') & (df['PaymentMethod']=='Cash') & (df['ProductCategory']=='Electronics')].head()"
   ]
  },
  {
   "cell_type": "code",
   "execution_count": null,
   "id": "4c8b847b",
   "metadata": {},
   "outputs": [],
   "source": [
    "df['ProductCategory'].value_counts()"
   ]
  },
  {
   "cell_type": "code",
   "execution_count": null,
   "id": "732be47e",
   "metadata": {},
   "outputs": [],
   "source": [
    "df[df['ProductID']=='A']['TotalAmount'].sum()"
   ]
  },
  {
   "cell_type": "code",
   "execution_count": null,
   "id": "881b3f8e",
   "metadata": {},
   "outputs": [],
   "source": [
    "df[df['ProductID']=='B']['TotalAmount'].sum()"
   ]
  },
  {
   "cell_type": "code",
   "execution_count": null,
   "id": "402d9f87",
   "metadata": {},
   "outputs": [],
   "source": [
    "df[df['ProductID']=='C']['TotalAmount'].sum()"
   ]
  },
  {
   "cell_type": "code",
   "execution_count": null,
   "id": "e2cd85df",
   "metadata": {},
   "outputs": [],
   "source": [
    "df[df['ProductID']=='D']['TotalAmount'].sum()"
   ]
  },
  {
   "cell_type": "code",
   "execution_count": null,
   "id": "e662d08f",
   "metadata": {},
   "outputs": [],
   "source": [
    "ax=df.groupby('ProductID')['TotalAmount'].sum().sort_values(ascending=False).plot(kind='bar')\n",
    "for bars in ax.containers:\n",
    "    ax.bar_label(bars)\n",
    "plt.title('Amount spent on each ProductID')    "
   ]
  },
  {
   "cell_type": "code",
   "execution_count": null,
   "id": "e8fc810d",
   "metadata": {},
   "outputs": [],
   "source": [
    "count=df['ProductID'].value_counts()\n",
    "plt.figure(figsize=(8,5))\n",
    "plt.pie(count,labels=count.index,autopct='%1.1f%%',startangle=140)\n",
    "plt.title('Percentage of ProductID')\n",
    "plt.show()"
   ]
  },
  {
   "cell_type": "code",
   "execution_count": null,
   "id": "a2d72add",
   "metadata": {},
   "outputs": [],
   "source": [
    "plt.figure(figsize=(20,5))\n",
    "ax=sns.countplot(data=df, x='ProductID', hue='PaymentMethod')\n",
    "for bars in ax.containers:\n",
    "    ax.bar_label(bars)\n",
    "plt.title('Count of PaymentMethod')    "
   ]
  },
  {
   "cell_type": "code",
   "execution_count": null,
   "id": "68669918",
   "metadata": {
    "scrolled": true
   },
   "outputs": [],
   "source": [
    "df.groupby('TransactionDate')['TotalAmount'].sum()"
   ]
  },
  {
   "cell_type": "code",
   "execution_count": null,
   "id": "463cbc22-27d8-4806-8868-94207a9eae67",
   "metadata": {},
   "outputs": [],
   "source": [
    "datetime_columns=[\"TransactionDate\"]\n",
    "for col in datetime_columns:\n",
    "    df[col]=pd.to_datetime(df[col])"
   ]
  },
  {
   "cell_type": "code",
   "execution_count": null,
   "id": "f8681fa1-9876-47a2-912e-67c6ed2acf9d",
   "metadata": {},
   "outputs": [],
   "source": [
    "df['year']=df['TransactionDate'].dt.strftime('%Y')\n",
    "df['month']=df['TransactionDate'].dt.strftime('%m')\n",
    "df['day']=df['TransactionDate'].dt.strftime('%w')\n",
    "df['time'] = df['TransactionDate'].dt.strftime('%I-%p')\n",
    "\n",
    "df.head()"
   ]
  },
  {
   "cell_type": "code",
   "execution_count": null,
   "id": "9b12c564-8340-45d2-84d7-99d1a1b4ea5c",
   "metadata": {},
   "outputs": [],
   "source": [
    "monthly_sales=df.groupby(['ProductCategory','month']).count()['TransactionDate'].reset_index().rename(columns={'TransactionDate':'count'}).pivot(index='month',columns='ProductCategory',values='count').reset_index()\n",
    "monthly_sales\n"
   ]
  },
  {
   "cell_type": "code",
   "execution_count": null,
   "id": "4f6778f6-e919-41d3-9a7f-db9737a9d522",
   "metadata": {},
   "outputs": [],
   "source": [
    "plt.figure(figsize=(12,8))\n",
    "sns.lineplot(data=monthly_sales)"
   ]
  },
  {
   "cell_type": "code",
   "execution_count": null,
   "id": "7e5f822b-25d3-4c14-8e43-90ba39dee320",
   "metadata": {},
   "outputs": [],
   "source": [
    "weekly_sales=df.groupby(['day']).count()['TransactionDate'].reset_index().rename(columns={'TransactionDate':'count'}).pivot\n",
    "weekly_sales"
   ]
  },
  {
   "cell_type": "code",
   "execution_count": null,
   "id": "74836c31-ea0a-4394-a659-29a61cb922ad",
   "metadata": {},
   "outputs": [],
   "source": [
    "weekly_sales1=df.groupby(['ProductCategory','day']).count()['TransactionDate'].reset_index().rename(columns={'TransactionDate':'count'}).pivot(index='day',columns='ProductCategory',values='count').reset_index()\n",
    "weekly_sales1"
   ]
  },
  {
   "cell_type": "code",
   "execution_count": null,
   "id": "303de223-e68a-48bb-bf3d-3e4849937aff",
   "metadata": {},
   "outputs": [],
   "source": [
    "plt.figure(figsize=(12,8))\n",
    "sns.lineplot(data=weekly_sales1)"
   ]
  },
  {
   "cell_type": "code",
   "execution_count": null,
   "id": "59bfd968-fa96-4531-afe5-5c17459e5ac8",
   "metadata": {},
   "outputs": [],
   "source": [
    "hourly_sale=df.groupby('time').count()['TransactionDate'].reset_index().rename(columns={'TransactionDate':'count'})\n",
    "hourly_sale"
   ]
  },
  {
   "cell_type": "code",
   "execution_count": null,
   "id": "2d94dceb-0b85-4134-b210-b82570b10464",
   "metadata": {},
   "outputs": [],
   "source": [
    "plt.figure(figsize=(20,7))\n",
    "ax=sns.barplot(data=hourly_sale.sort_values(by='count', ascending=True),x='time',y='count',color='lightblue')\n",
    "for bars in ax.containers:\n",
    "    ax.bar_label(bars)\n",
    "plt.show()    "
   ]
  },
  {
   "cell_type": "code",
   "execution_count": null,
   "id": "9c8b81ea-6533-4fd9-9bd7-f350a4626f93",
   "metadata": {},
   "outputs": [],
   "source": [
    "hourly_sales_by_coffee=df.groupby(['time','ProductCategory']).count()['TransactionDate'].reset_index().rename(columns={'TransactionDate':'count'}).pivot(index='time',columns='ProductCategory',values='count').fillna(0).reset_index()\n",
    "hourly_sales_by_coffee"
   ]
  },
  {
   "cell_type": "code",
   "execution_count": null,
   "id": "ced4dad3-dee5-44d4-94c8-fc0a0846186b",
   "metadata": {},
   "outputs": [],
   "source": []
  }
 ],
 "metadata": {
  "kernelspec": {
   "display_name": "Python 3 (ipykernel)",
   "language": "python",
   "name": "python3"
  },
  "language_info": {
   "codemirror_mode": {
    "name": "ipython",
    "version": 3
   },
   "file_extension": ".py",
   "mimetype": "text/x-python",
   "name": "python",
   "nbconvert_exporter": "python",
   "pygments_lexer": "ipython3",
   "version": "3.12.4"
  }
 },
 "nbformat": 4,
 "nbformat_minor": 5
}
